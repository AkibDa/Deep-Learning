{
 "cells": [
  {
   "cell_type": "code",
   "id": "initial_id",
   "metadata": {
    "collapsed": true,
    "ExecuteTime": {
     "end_time": "2025-07-05T17:48:50.344934Z",
     "start_time": "2025-07-05T17:48:50.337061Z"
    }
   },
   "source": [
    "import tensorflow as tf\n",
    "from tensorflow.keras import layers, models"
   ],
   "outputs": [],
   "execution_count": 16
  },
  {
   "metadata": {
    "ExecuteTime": {
     "end_time": "2025-07-05T17:48:50.373426Z",
     "start_time": "2025-07-05T17:48:50.359052Z"
    }
   },
   "cell_type": "code",
   "source": [
    "# Implement a feedforward neural network (FNN)\n",
    "from sklearn.datasets import load_iris\n",
    "from sklearn.model_selection import train_test_split\n",
    "from sklearn.preprocessing import OneHotEncoder\n",
    "\n",
    "# Load dataset\n",
    "iris = load_iris()\n",
    "X = iris.data\n",
    "y = iris.target.reshape(-1, 1)\n",
    "\n",
    "# One-hot encode labels\n",
    "encoder = OneHotEncoder()\n",
    "y = encoder.fit_transform(y).toarray()\n",
    "\n",
    "# Split the dataset into training and testing sets\n",
    "X_train, X_test, y_train, y_test = train_test_split(X, y, test_size=0.2, random_state=42)"
   ],
   "id": "2b9bb40bf4b38ee",
   "outputs": [],
   "execution_count": 17
  },
  {
   "metadata": {
    "ExecuteTime": {
     "end_time": "2025-07-05T17:48:50.399710Z",
     "start_time": "2025-07-05T17:48:50.378468Z"
    }
   },
   "cell_type": "code",
   "source": [
    "model_fnn = models.Sequential([\n",
    "    layers.Input(shape=(X_train.shape[1],)),\n",
    "    layers.Dense(64, activation='relu'),\n",
    "    layers.Dense(32, activation='relu'),\n",
    "    layers.Dense(3, activation='softmax')  # 3 output classes for the Iris dataset\n",
    "])\n"
   ],
   "id": "524e9a0c259624bf",
   "outputs": [],
   "execution_count": 18
  },
  {
   "metadata": {
    "ExecuteTime": {
     "end_time": "2025-07-05T17:48:51.518019Z",
     "start_time": "2025-07-05T17:48:50.405269Z"
    }
   },
   "cell_type": "code",
   "source": [
    "# Compile the model\n",
    "model_fnn.compile(optimizer='adam', loss='categorical_crossentropy', metrics=['accuracy'])\n",
    "\n",
    "# Train the model\n",
    "model_fnn.fit(X_train, y_train, epochs=20, batch_size=32, validation_data=(X_test, y_test))"
   ],
   "id": "e5997d402ec96d28",
   "outputs": [
    {
     "name": "stdout",
     "output_type": "stream",
     "text": [
      "Epoch 1/20\n",
      "\u001B[1m4/4\u001B[0m \u001B[32m━━━━━━━━━━━━━━━━━━━━\u001B[0m\u001B[37m\u001B[0m \u001B[1m0s\u001B[0m 29ms/step - accuracy: 0.3567 - loss: 1.3763 - val_accuracy: 0.6333 - val_loss: 1.2300\n",
      "Epoch 2/20\n",
      "\u001B[1m4/4\u001B[0m \u001B[32m━━━━━━━━━━━━━━━━━━━━\u001B[0m\u001B[37m\u001B[0m \u001B[1m0s\u001B[0m 8ms/step - accuracy: 0.6675 - loss: 1.0905 - val_accuracy: 0.5667 - val_loss: 1.0067\n",
      "Epoch 3/20\n",
      "\u001B[1m4/4\u001B[0m \u001B[32m━━━━━━━━━━━━━━━━━━━━\u001B[0m\u001B[37m\u001B[0m \u001B[1m0s\u001B[0m 8ms/step - accuracy: 0.6221 - loss: 1.0077 - val_accuracy: 0.7000 - val_loss: 0.9460\n",
      "Epoch 4/20\n",
      "\u001B[1m4/4\u001B[0m \u001B[32m━━━━━━━━━━━━━━━━━━━━\u001B[0m\u001B[37m\u001B[0m \u001B[1m0s\u001B[0m 8ms/step - accuracy: 0.6675 - loss: 0.9649 - val_accuracy: 0.7000 - val_loss: 0.9047\n",
      "Epoch 5/20\n",
      "\u001B[1m4/4\u001B[0m \u001B[32m━━━━━━━━━━━━━━━━━━━━\u001B[0m\u001B[37m\u001B[0m \u001B[1m0s\u001B[0m 8ms/step - accuracy: 0.6831 - loss: 0.9054 - val_accuracy: 0.7000 - val_loss: 0.8520\n",
      "Epoch 6/20\n",
      "\u001B[1m4/4\u001B[0m \u001B[32m━━━━━━━━━━━━━━━━━━━━\u001B[0m\u001B[37m\u001B[0m \u001B[1m0s\u001B[0m 8ms/step - accuracy: 0.6592 - loss: 0.8634 - val_accuracy: 0.8000 - val_loss: 0.8140\n",
      "Epoch 7/20\n",
      "\u001B[1m4/4\u001B[0m \u001B[32m━━━━━━━━━━━━━━━━━━━━\u001B[0m\u001B[37m\u001B[0m \u001B[1m0s\u001B[0m 8ms/step - accuracy: 0.8950 - loss: 0.8061 - val_accuracy: 0.8667 - val_loss: 0.7869\n",
      "Epoch 8/20\n",
      "\u001B[1m4/4\u001B[0m \u001B[32m━━━━━━━━━━━━━━━━━━━━\u001B[0m\u001B[37m\u001B[0m \u001B[1m0s\u001B[0m 8ms/step - accuracy: 0.8719 - loss: 0.7825 - val_accuracy: 0.8333 - val_loss: 0.7526\n",
      "Epoch 9/20\n",
      "\u001B[1m4/4\u001B[0m \u001B[32m━━━━━━━━━━━━━━━━━━━━\u001B[0m\u001B[37m\u001B[0m \u001B[1m0s\u001B[0m 8ms/step - accuracy: 0.8333 - loss: 0.7482 - val_accuracy: 0.9667 - val_loss: 0.6968\n",
      "Epoch 10/20\n",
      "\u001B[1m4/4\u001B[0m \u001B[32m━━━━━━━━━━━━━━━━━━━━\u001B[0m\u001B[37m\u001B[0m \u001B[1m0s\u001B[0m 8ms/step - accuracy: 0.9600 - loss: 0.6918 - val_accuracy: 0.8667 - val_loss: 0.6480\n",
      "Epoch 11/20\n",
      "\u001B[1m4/4\u001B[0m \u001B[32m━━━━━━━━━━━━━━━━━━━━\u001B[0m\u001B[37m\u001B[0m \u001B[1m0s\u001B[0m 8ms/step - accuracy: 0.8388 - loss: 0.6628 - val_accuracy: 0.7000 - val_loss: 0.6120\n",
      "Epoch 12/20\n",
      "\u001B[1m4/4\u001B[0m \u001B[32m━━━━━━━━━━━━━━━━━━━━\u001B[0m\u001B[37m\u001B[0m \u001B[1m0s\u001B[0m 8ms/step - accuracy: 0.7229 - loss: 0.6117 - val_accuracy: 0.8000 - val_loss: 0.5799\n",
      "Epoch 13/20\n",
      "\u001B[1m4/4\u001B[0m \u001B[32m━━━━━━━━━━━━━━━━━━━━\u001B[0m\u001B[37m\u001B[0m \u001B[1m0s\u001B[0m 8ms/step - accuracy: 0.8269 - loss: 0.5813 - val_accuracy: 0.9333 - val_loss: 0.5537\n",
      "Epoch 14/20\n",
      "\u001B[1m4/4\u001B[0m \u001B[32m━━━━━━━━━━━━━━━━━━━━\u001B[0m\u001B[37m\u001B[0m \u001B[1m0s\u001B[0m 8ms/step - accuracy: 0.9237 - loss: 0.5642 - val_accuracy: 0.9333 - val_loss: 0.5329\n",
      "Epoch 15/20\n",
      "\u001B[1m4/4\u001B[0m \u001B[32m━━━━━━━━━━━━━━━━━━━━\u001B[0m\u001B[37m\u001B[0m \u001B[1m0s\u001B[0m 8ms/step - accuracy: 0.9827 - loss: 0.5404 - val_accuracy: 0.9667 - val_loss: 0.5055\n",
      "Epoch 16/20\n",
      "\u001B[1m4/4\u001B[0m \u001B[32m━━━━━━━━━━━━━━━━━━━━\u001B[0m\u001B[37m\u001B[0m \u001B[1m0s\u001B[0m 8ms/step - accuracy: 0.9658 - loss: 0.5165 - val_accuracy: 0.9667 - val_loss: 0.4798\n",
      "Epoch 17/20\n",
      "\u001B[1m4/4\u001B[0m \u001B[32m━━━━━━━━━━━━━━━━━━━━\u001B[0m\u001B[37m\u001B[0m \u001B[1m0s\u001B[0m 8ms/step - accuracy: 0.9498 - loss: 0.4932 - val_accuracy: 0.9667 - val_loss: 0.4577\n",
      "Epoch 18/20\n",
      "\u001B[1m4/4\u001B[0m \u001B[32m━━━━━━━━━━━━━━━━━━━━\u001B[0m\u001B[37m\u001B[0m \u001B[1m0s\u001B[0m 8ms/step - accuracy: 0.9446 - loss: 0.4542 - val_accuracy: 0.9667 - val_loss: 0.4389\n",
      "Epoch 19/20\n",
      "\u001B[1m4/4\u001B[0m \u001B[32m━━━━━━━━━━━━━━━━━━━━\u001B[0m\u001B[37m\u001B[0m \u001B[1m0s\u001B[0m 8ms/step - accuracy: 0.9585 - loss: 0.4470 - val_accuracy: 0.9667 - val_loss: 0.4229\n",
      "Epoch 20/20\n",
      "\u001B[1m4/4\u001B[0m \u001B[32m━━━━━━━━━━━━━━━━━━━━\u001B[0m\u001B[37m\u001B[0m \u001B[1m0s\u001B[0m 9ms/step - accuracy: 0.9565 - loss: 0.4362 - val_accuracy: 0.9667 - val_loss: 0.4053\n"
     ]
    },
    {
     "data": {
      "text/plain": [
       "<keras.src.callbacks.history.History at 0x149918c40>"
      ]
     },
     "execution_count": 19,
     "metadata": {},
     "output_type": "execute_result"
    }
   ],
   "execution_count": 19
  },
  {
   "metadata": {},
   "cell_type": "code",
   "outputs": [],
   "execution_count": null,
   "source": [
    "# Implement a recurrent neural network (RNN)\n",
    "\n",
    "import numpy as np\n",
    "\n",
    "# Generate synthetic sine wave data\n",
    "t = np.linspace(0, 100, 10000)\n",
    "X = np.sin(t).reshape(-1, 1)\n",
    "\n",
    "# Prepare sequences\n",
    "def create_sequences(data, seq_length):\n",
    "    X_seq, y_seq = [], []\n",
    "    for i in range(len(data) - seq_length):\n",
    "        X_seq.append(data[i:i+seq_length])\n",
    "        y_seq.append(data[i+seq_length])\n",
    "    return np.array(X_seq), np.array(y_seq)\n",
    "\n",
    "seq_length = 100\n",
    "X_seq, y_seq = create_sequences(X, seq_length)\n",
    "\n",
    "# Split data into training and testing sets\n",
    "X_train, X_test, y_train, y_test = train_test_split(X_seq, y_seq, test_size=0.2, random_state=42)"
   ],
   "id": "3a604fd43147ce7e"
  },
  {
   "metadata": {},
   "cell_type": "code",
   "outputs": [],
   "execution_count": null,
   "source": [
    "# Build the RNN model\n",
    "model_rnn = models.Sequential([\n",
    "    layers.SimpleRNN(128, input_shape=(seq_length, 1)),\n",
    "    layers.Dense(1)  # Output is a single value (next point in the sequence)\n",
    "])"
   ],
   "id": "1338abb2205467b7"
  },
  {
   "metadata": {},
   "cell_type": "code",
   "outputs": [],
   "execution_count": null,
   "source": [
    "# Compile the model\n",
    "model_rnn.compile(optimizer='adam', loss='mse')\n",
    "\n",
    "# Train the model\n",
    "model_rnn.fit(X_train, y_train, epochs=10, batch_size=32, validation_data=(X_test, y_test))"
   ],
   "id": "abd12c0dd0c93047"
  }
 ],
 "metadata": {
  "kernelspec": {
   "display_name": "Python 3",
   "language": "python",
   "name": "python3"
  },
  "language_info": {
   "codemirror_mode": {
    "name": "ipython",
    "version": 2
   },
   "file_extension": ".py",
   "mimetype": "text/x-python",
   "name": "python",
   "nbconvert_exporter": "python",
   "pygments_lexer": "ipython2",
   "version": "2.7.6"
  }
 },
 "nbformat": 4,
 "nbformat_minor": 5
}
